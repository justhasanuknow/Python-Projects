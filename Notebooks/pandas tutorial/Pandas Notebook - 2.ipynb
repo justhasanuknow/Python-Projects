{
    "cells": [
        {
            "cell_type": "markdown",
            "source": [
                "# Diffrent ways of creating Dataframes\r\n",
                "***"
            ],
            "metadata": {}
        },
        {
            "cell_type": "code",
            "execution_count": 69,
            "source": [
                "import pandas as pd"
            ],
            "outputs": [],
            "metadata": {}
        },
        {
            "cell_type": "markdown",
            "source": [
                "Reading through a .csv file:"
            ],
            "metadata": {}
        },
        {
            "cell_type": "code",
            "execution_count": 70,
            "source": [
                "df = pd.read_csv(\"Doomsday survival rate.csv\", sep = None, engine = \"python\")\r\n",
                "df"
            ],
            "outputs": [
                {
                    "output_type": "execute_result",
                    "data": {
                        "text/plain": [
                            "      ﻿Name       Date  Survival Rate  Number of People  Temperature  Bitcoin  \\\n",
                            "0    Ankara  1.01.2021            0.5            150000           15    45000   \n",
                            "1    London  1.02.2021            0.4            250000           25    85000   \n",
                            "2  New York  1.03.2021            0.3          15000000           30    90000   \n",
                            "3     Paris  1.04.2021            0.2           5400000           10    20000   \n",
                            "4     Tokyo  1.05.2021            0.1          99000000           55    60000   \n",
                            "5    Moscow  1.06.2021            0.0             34000          -20   150000   \n",
                            "\n",
                            "   Emotion Rate  \n",
                            "0            50  \n",
                            "1     not given  \n",
                            "2            35  \n",
                            "3  error values  \n",
                            "4            98  \n",
                            "5             0  "
                        ],
                        "text/html": [
                            "<div>\n",
                            "<style scoped>\n",
                            "    .dataframe tbody tr th:only-of-type {\n",
                            "        vertical-align: middle;\n",
                            "    }\n",
                            "\n",
                            "    .dataframe tbody tr th {\n",
                            "        vertical-align: top;\n",
                            "    }\n",
                            "\n",
                            "    .dataframe thead th {\n",
                            "        text-align: right;\n",
                            "    }\n",
                            "</style>\n",
                            "<table border=\"1\" class=\"dataframe\">\n",
                            "  <thead>\n",
                            "    <tr style=\"text-align: right;\">\n",
                            "      <th></th>\n",
                            "      <th>﻿Name</th>\n",
                            "      <th>Date</th>\n",
                            "      <th>Survival Rate</th>\n",
                            "      <th>Number of People</th>\n",
                            "      <th>Temperature</th>\n",
                            "      <th>Bitcoin</th>\n",
                            "      <th>Emotion Rate</th>\n",
                            "    </tr>\n",
                            "  </thead>\n",
                            "  <tbody>\n",
                            "    <tr>\n",
                            "      <th>0</th>\n",
                            "      <td>Ankara</td>\n",
                            "      <td>1.01.2021</td>\n",
                            "      <td>0.5</td>\n",
                            "      <td>150000</td>\n",
                            "      <td>15</td>\n",
                            "      <td>45000</td>\n",
                            "      <td>50</td>\n",
                            "    </tr>\n",
                            "    <tr>\n",
                            "      <th>1</th>\n",
                            "      <td>London</td>\n",
                            "      <td>1.02.2021</td>\n",
                            "      <td>0.4</td>\n",
                            "      <td>250000</td>\n",
                            "      <td>25</td>\n",
                            "      <td>85000</td>\n",
                            "      <td>not given</td>\n",
                            "    </tr>\n",
                            "    <tr>\n",
                            "      <th>2</th>\n",
                            "      <td>New York</td>\n",
                            "      <td>1.03.2021</td>\n",
                            "      <td>0.3</td>\n",
                            "      <td>15000000</td>\n",
                            "      <td>30</td>\n",
                            "      <td>90000</td>\n",
                            "      <td>35</td>\n",
                            "    </tr>\n",
                            "    <tr>\n",
                            "      <th>3</th>\n",
                            "      <td>Paris</td>\n",
                            "      <td>1.04.2021</td>\n",
                            "      <td>0.2</td>\n",
                            "      <td>5400000</td>\n",
                            "      <td>10</td>\n",
                            "      <td>20000</td>\n",
                            "      <td>error values</td>\n",
                            "    </tr>\n",
                            "    <tr>\n",
                            "      <th>4</th>\n",
                            "      <td>Tokyo</td>\n",
                            "      <td>1.05.2021</td>\n",
                            "      <td>0.1</td>\n",
                            "      <td>99000000</td>\n",
                            "      <td>55</td>\n",
                            "      <td>60000</td>\n",
                            "      <td>98</td>\n",
                            "    </tr>\n",
                            "    <tr>\n",
                            "      <th>5</th>\n",
                            "      <td>Moscow</td>\n",
                            "      <td>1.06.2021</td>\n",
                            "      <td>0.0</td>\n",
                            "      <td>34000</td>\n",
                            "      <td>-20</td>\n",
                            "      <td>150000</td>\n",
                            "      <td>0</td>\n",
                            "    </tr>\n",
                            "  </tbody>\n",
                            "</table>\n",
                            "</div>"
                        ]
                    },
                    "metadata": {},
                    "execution_count": 70
                }
            ],
            "metadata": {}
        },
        {
            "cell_type": "markdown",
            "source": [
                "Reading through a excel file:\r\n",
                "\r\n",
                "Second parameter is the name of the sheet."
            ],
            "metadata": {}
        },
        {
            "cell_type": "code",
            "execution_count": 71,
            "source": [
                "df2 = pd.read_excel(\"Pandas notebook.xlsx\", \"Sayfa1\")\r\n",
                "df2"
            ],
            "outputs": [
                {
                    "output_type": "execute_result",
                    "data": {
                        "text/plain": [
                            "       Name       Date  Survival Rate  Number of People\n",
                            "0    Ankara 2021-01-01            0.5            150000\n",
                            "1    London 2021-02-01            0.4            250000\n",
                            "2  New York 2021-03-01            0.3          15000000\n",
                            "3     Paris 2021-04-01            0.2           5400000\n",
                            "4     Tokyo 2021-05-01            0.1          99000000\n",
                            "5    Moscow 2021-06-01            0.0             34000"
                        ],
                        "text/html": [
                            "<div>\n",
                            "<style scoped>\n",
                            "    .dataframe tbody tr th:only-of-type {\n",
                            "        vertical-align: middle;\n",
                            "    }\n",
                            "\n",
                            "    .dataframe tbody tr th {\n",
                            "        vertical-align: top;\n",
                            "    }\n",
                            "\n",
                            "    .dataframe thead th {\n",
                            "        text-align: right;\n",
                            "    }\n",
                            "</style>\n",
                            "<table border=\"1\" class=\"dataframe\">\n",
                            "  <thead>\n",
                            "    <tr style=\"text-align: right;\">\n",
                            "      <th></th>\n",
                            "      <th>Name</th>\n",
                            "      <th>Date</th>\n",
                            "      <th>Survival Rate</th>\n",
                            "      <th>Number of People</th>\n",
                            "    </tr>\n",
                            "  </thead>\n",
                            "  <tbody>\n",
                            "    <tr>\n",
                            "      <th>0</th>\n",
                            "      <td>Ankara</td>\n",
                            "      <td>2021-01-01</td>\n",
                            "      <td>0.5</td>\n",
                            "      <td>150000</td>\n",
                            "    </tr>\n",
                            "    <tr>\n",
                            "      <th>1</th>\n",
                            "      <td>London</td>\n",
                            "      <td>2021-02-01</td>\n",
                            "      <td>0.4</td>\n",
                            "      <td>250000</td>\n",
                            "    </tr>\n",
                            "    <tr>\n",
                            "      <th>2</th>\n",
                            "      <td>New York</td>\n",
                            "      <td>2021-03-01</td>\n",
                            "      <td>0.3</td>\n",
                            "      <td>15000000</td>\n",
                            "    </tr>\n",
                            "    <tr>\n",
                            "      <th>3</th>\n",
                            "      <td>Paris</td>\n",
                            "      <td>2021-04-01</td>\n",
                            "      <td>0.2</td>\n",
                            "      <td>5400000</td>\n",
                            "    </tr>\n",
                            "    <tr>\n",
                            "      <th>4</th>\n",
                            "      <td>Tokyo</td>\n",
                            "      <td>2021-05-01</td>\n",
                            "      <td>0.1</td>\n",
                            "      <td>99000000</td>\n",
                            "    </tr>\n",
                            "    <tr>\n",
                            "      <th>5</th>\n",
                            "      <td>Moscow</td>\n",
                            "      <td>2021-06-01</td>\n",
                            "      <td>0.0</td>\n",
                            "      <td>34000</td>\n",
                            "    </tr>\n",
                            "  </tbody>\n",
                            "</table>\n",
                            "</div>"
                        ]
                    },
                    "metadata": {},
                    "execution_count": 71
                }
            ],
            "metadata": {}
        },
        {
            "cell_type": "markdown",
            "source": [
                "Reading through a dictionary:"
            ],
            "metadata": {}
        },
        {
            "cell_type": "code",
            "execution_count": 72,
            "source": [
                "survivalRate = {\r\n",
                "    'City Name' : [\"Ankara\", \"London\", \"New York\", \"Paris\", \"Tokyo\", \"Moscow\"],\r\n",
                "    'Date' : ['1.01.2021', '2.01.2021', '3.01.2021', '4.01.2021', '5.01.2021', '6.01.2021'],\r\n",
                "    'Survival Rate' : [0.5, 0.4, 0.3, 0.2, 0.1, 0.0],\r\n",
                "    'Number of People' : [150000, 250000, 15000000, 540000, 99000000, 34000],\r\n",
                "    'Temperature' : [15, 25, 30, 10, 55, -20]\r\n",
                "}\r\n",
                "\r\n",
                "df3 = pd.DataFrame(survivalRate)\r\n",
                "df3"
            ],
            "outputs": [
                {
                    "output_type": "execute_result",
                    "data": {
                        "text/plain": [
                            "  City Name       Date  Survival Rate  Number of People  Temperature\n",
                            "0    Ankara  1.01.2021            0.5            150000           15\n",
                            "1    London  2.01.2021            0.4            250000           25\n",
                            "2  New York  3.01.2021            0.3          15000000           30\n",
                            "3     Paris  4.01.2021            0.2            540000           10\n",
                            "4     Tokyo  5.01.2021            0.1          99000000           55\n",
                            "5    Moscow  6.01.2021            0.0             34000          -20"
                        ],
                        "text/html": [
                            "<div>\n",
                            "<style scoped>\n",
                            "    .dataframe tbody tr th:only-of-type {\n",
                            "        vertical-align: middle;\n",
                            "    }\n",
                            "\n",
                            "    .dataframe tbody tr th {\n",
                            "        vertical-align: top;\n",
                            "    }\n",
                            "\n",
                            "    .dataframe thead th {\n",
                            "        text-align: right;\n",
                            "    }\n",
                            "</style>\n",
                            "<table border=\"1\" class=\"dataframe\">\n",
                            "  <thead>\n",
                            "    <tr style=\"text-align: right;\">\n",
                            "      <th></th>\n",
                            "      <th>City Name</th>\n",
                            "      <th>Date</th>\n",
                            "      <th>Survival Rate</th>\n",
                            "      <th>Number of People</th>\n",
                            "      <th>Temperature</th>\n",
                            "    </tr>\n",
                            "  </thead>\n",
                            "  <tbody>\n",
                            "    <tr>\n",
                            "      <th>0</th>\n",
                            "      <td>Ankara</td>\n",
                            "      <td>1.01.2021</td>\n",
                            "      <td>0.5</td>\n",
                            "      <td>150000</td>\n",
                            "      <td>15</td>\n",
                            "    </tr>\n",
                            "    <tr>\n",
                            "      <th>1</th>\n",
                            "      <td>London</td>\n",
                            "      <td>2.01.2021</td>\n",
                            "      <td>0.4</td>\n",
                            "      <td>250000</td>\n",
                            "      <td>25</td>\n",
                            "    </tr>\n",
                            "    <tr>\n",
                            "      <th>2</th>\n",
                            "      <td>New York</td>\n",
                            "      <td>3.01.2021</td>\n",
                            "      <td>0.3</td>\n",
                            "      <td>15000000</td>\n",
                            "      <td>30</td>\n",
                            "    </tr>\n",
                            "    <tr>\n",
                            "      <th>3</th>\n",
                            "      <td>Paris</td>\n",
                            "      <td>4.01.2021</td>\n",
                            "      <td>0.2</td>\n",
                            "      <td>540000</td>\n",
                            "      <td>10</td>\n",
                            "    </tr>\n",
                            "    <tr>\n",
                            "      <th>4</th>\n",
                            "      <td>Tokyo</td>\n",
                            "      <td>5.01.2021</td>\n",
                            "      <td>0.1</td>\n",
                            "      <td>99000000</td>\n",
                            "      <td>55</td>\n",
                            "    </tr>\n",
                            "    <tr>\n",
                            "      <th>5</th>\n",
                            "      <td>Moscow</td>\n",
                            "      <td>6.01.2021</td>\n",
                            "      <td>0.0</td>\n",
                            "      <td>34000</td>\n",
                            "      <td>-20</td>\n",
                            "    </tr>\n",
                            "  </tbody>\n",
                            "</table>\n",
                            "</div>"
                        ]
                    },
                    "metadata": {},
                    "execution_count": 72
                }
            ],
            "metadata": {}
        },
        {
            "cell_type": "markdown",
            "source": [
                "Reading through a list of Tuples:"
            ],
            "metadata": {}
        },
        {
            "cell_type": "code",
            "execution_count": 73,
            "source": [
                "survivalRate2 = [\r\n",
                "    ('Ankara', '1.01.2021', 0.5, 150000, 15),\r\n",
                "    ('London', '2.01.2021', 0.4,250000, 25),\r\n",
                "    ('New York', '3.01.2021', 0.3, 15000000, 30)\r\n",
                "]\r\n",
                "\r\n",
                "df4 = pd.DataFrame(survivalRate2, columns = [\"City Name\", \"Date\", \"Survival Rate\", \"Number of People\", \"Temperature\"])\r\n",
                "df4"
            ],
            "outputs": [
                {
                    "output_type": "execute_result",
                    "data": {
                        "text/plain": [
                            "  City Name       Date  Survival Rate  Number of People  Temperature\n",
                            "0    Ankara  1.01.2021            0.5            150000           15\n",
                            "1    London  2.01.2021            0.4            250000           25\n",
                            "2  New York  3.01.2021            0.3          15000000           30"
                        ],
                        "text/html": [
                            "<div>\n",
                            "<style scoped>\n",
                            "    .dataframe tbody tr th:only-of-type {\n",
                            "        vertical-align: middle;\n",
                            "    }\n",
                            "\n",
                            "    .dataframe tbody tr th {\n",
                            "        vertical-align: top;\n",
                            "    }\n",
                            "\n",
                            "    .dataframe thead th {\n",
                            "        text-align: right;\n",
                            "    }\n",
                            "</style>\n",
                            "<table border=\"1\" class=\"dataframe\">\n",
                            "  <thead>\n",
                            "    <tr style=\"text-align: right;\">\n",
                            "      <th></th>\n",
                            "      <th>City Name</th>\n",
                            "      <th>Date</th>\n",
                            "      <th>Survival Rate</th>\n",
                            "      <th>Number of People</th>\n",
                            "      <th>Temperature</th>\n",
                            "    </tr>\n",
                            "  </thead>\n",
                            "  <tbody>\n",
                            "    <tr>\n",
                            "      <th>0</th>\n",
                            "      <td>Ankara</td>\n",
                            "      <td>1.01.2021</td>\n",
                            "      <td>0.5</td>\n",
                            "      <td>150000</td>\n",
                            "      <td>15</td>\n",
                            "    </tr>\n",
                            "    <tr>\n",
                            "      <th>1</th>\n",
                            "      <td>London</td>\n",
                            "      <td>2.01.2021</td>\n",
                            "      <td>0.4</td>\n",
                            "      <td>250000</td>\n",
                            "      <td>25</td>\n",
                            "    </tr>\n",
                            "    <tr>\n",
                            "      <th>2</th>\n",
                            "      <td>New York</td>\n",
                            "      <td>3.01.2021</td>\n",
                            "      <td>0.3</td>\n",
                            "      <td>15000000</td>\n",
                            "      <td>30</td>\n",
                            "    </tr>\n",
                            "  </tbody>\n",
                            "</table>\n",
                            "</div>"
                        ]
                    },
                    "metadata": {},
                    "execution_count": 73
                }
            ],
            "metadata": {}
        },
        {
            "cell_type": "markdown",
            "source": [
                "Reading through a list of dictionaries:"
            ],
            "metadata": {}
        },
        {
            "cell_type": "code",
            "execution_count": 74,
            "source": [
                "survivalRate3 = [\r\n",
                "    {'City Name' : \"Ankara\", \"Date\" : \"1.01.2021\", \"Survival Rate\" : 0.5, \"Number of People\" : 150000, \"Temperature\" : 15},\r\n",
                "    {'City Name' : \"London\", \"Date\" : \"2.01.2021\", \"Survival Rate\" : 0.4, \"Number of People\" : 250000, \"Temperature\" : 25},\r\n",
                "    {'City Name' : \"New York\", \"Date\" : \"3.01.2021\", \"Survival Rate\" : 0.3, \"Number of People\" : 15000000, \"Temperature\" : 30},\r\n",
                "]\r\n",
                "\r\n",
                "df5 = pd.DataFrame(survivalRate3)\r\n",
                "df5"
            ],
            "outputs": [
                {
                    "output_type": "execute_result",
                    "data": {
                        "text/plain": [
                            "  City Name       Date  Survival Rate  Number of People  Temperature\n",
                            "0    Ankara  1.01.2021            0.5            150000           15\n",
                            "1    London  2.01.2021            0.4            250000           25\n",
                            "2  New York  3.01.2021            0.3          15000000           30"
                        ],
                        "text/html": [
                            "<div>\n",
                            "<style scoped>\n",
                            "    .dataframe tbody tr th:only-of-type {\n",
                            "        vertical-align: middle;\n",
                            "    }\n",
                            "\n",
                            "    .dataframe tbody tr th {\n",
                            "        vertical-align: top;\n",
                            "    }\n",
                            "\n",
                            "    .dataframe thead th {\n",
                            "        text-align: right;\n",
                            "    }\n",
                            "</style>\n",
                            "<table border=\"1\" class=\"dataframe\">\n",
                            "  <thead>\n",
                            "    <tr style=\"text-align: right;\">\n",
                            "      <th></th>\n",
                            "      <th>City Name</th>\n",
                            "      <th>Date</th>\n",
                            "      <th>Survival Rate</th>\n",
                            "      <th>Number of People</th>\n",
                            "      <th>Temperature</th>\n",
                            "    </tr>\n",
                            "  </thead>\n",
                            "  <tbody>\n",
                            "    <tr>\n",
                            "      <th>0</th>\n",
                            "      <td>Ankara</td>\n",
                            "      <td>1.01.2021</td>\n",
                            "      <td>0.5</td>\n",
                            "      <td>150000</td>\n",
                            "      <td>15</td>\n",
                            "    </tr>\n",
                            "    <tr>\n",
                            "      <th>1</th>\n",
                            "      <td>London</td>\n",
                            "      <td>2.01.2021</td>\n",
                            "      <td>0.4</td>\n",
                            "      <td>250000</td>\n",
                            "      <td>25</td>\n",
                            "    </tr>\n",
                            "    <tr>\n",
                            "      <th>2</th>\n",
                            "      <td>New York</td>\n",
                            "      <td>3.01.2021</td>\n",
                            "      <td>0.3</td>\n",
                            "      <td>15000000</td>\n",
                            "      <td>30</td>\n",
                            "    </tr>\n",
                            "  </tbody>\n",
                            "</table>\n",
                            "</div>"
                        ]
                    },
                    "metadata": {},
                    "execution_count": 74
                }
            ],
            "metadata": {}
        },
        {
            "cell_type": "markdown",
            "source": [
                "## To see other ways of reading check this url: https://pandas.pydata.org/pandas-docs/stable/user_guide/io.html"
            ],
            "metadata": {}
        },
        {
            "cell_type": "markdown",
            "source": [
                "***\r\n",
                "# Read - Write CSV Files"
            ],
            "metadata": {}
        },
        {
            "cell_type": "code",
            "execution_count": 75,
            "source": [
                "dataFrame = pd.read_csv(\"Doomsday survival rate.csv\", nrows = 4, na_values =[\"error values\", \"not given\"] ,sep = None, engine = \"python\")\r\n",
                "dataFrame"
            ],
            "outputs": [
                {
                    "output_type": "execute_result",
                    "data": {
                        "text/plain": [
                            "      ﻿Name       Date  Survival Rate  Number of People  Temperature  Bitcoin  \\\n",
                            "0    Ankara  1.01.2021            0.5            150000           15    45000   \n",
                            "1    London  1.02.2021            0.4            250000           25    85000   \n",
                            "2  New York  1.03.2021            0.3          15000000           30    90000   \n",
                            "3     Paris  1.04.2021            0.2           5400000           10    20000   \n",
                            "\n",
                            "   Emotion Rate  \n",
                            "0          50.0  \n",
                            "1           NaN  \n",
                            "2          35.0  \n",
                            "3           NaN  "
                        ],
                        "text/html": [
                            "<div>\n",
                            "<style scoped>\n",
                            "    .dataframe tbody tr th:only-of-type {\n",
                            "        vertical-align: middle;\n",
                            "    }\n",
                            "\n",
                            "    .dataframe tbody tr th {\n",
                            "        vertical-align: top;\n",
                            "    }\n",
                            "\n",
                            "    .dataframe thead th {\n",
                            "        text-align: right;\n",
                            "    }\n",
                            "</style>\n",
                            "<table border=\"1\" class=\"dataframe\">\n",
                            "  <thead>\n",
                            "    <tr style=\"text-align: right;\">\n",
                            "      <th></th>\n",
                            "      <th>﻿Name</th>\n",
                            "      <th>Date</th>\n",
                            "      <th>Survival Rate</th>\n",
                            "      <th>Number of People</th>\n",
                            "      <th>Temperature</th>\n",
                            "      <th>Bitcoin</th>\n",
                            "      <th>Emotion Rate</th>\n",
                            "    </tr>\n",
                            "  </thead>\n",
                            "  <tbody>\n",
                            "    <tr>\n",
                            "      <th>0</th>\n",
                            "      <td>Ankara</td>\n",
                            "      <td>1.01.2021</td>\n",
                            "      <td>0.5</td>\n",
                            "      <td>150000</td>\n",
                            "      <td>15</td>\n",
                            "      <td>45000</td>\n",
                            "      <td>50.0</td>\n",
                            "    </tr>\n",
                            "    <tr>\n",
                            "      <th>1</th>\n",
                            "      <td>London</td>\n",
                            "      <td>1.02.2021</td>\n",
                            "      <td>0.4</td>\n",
                            "      <td>250000</td>\n",
                            "      <td>25</td>\n",
                            "      <td>85000</td>\n",
                            "      <td>NaN</td>\n",
                            "    </tr>\n",
                            "    <tr>\n",
                            "      <th>2</th>\n",
                            "      <td>New York</td>\n",
                            "      <td>1.03.2021</td>\n",
                            "      <td>0.3</td>\n",
                            "      <td>15000000</td>\n",
                            "      <td>30</td>\n",
                            "      <td>90000</td>\n",
                            "      <td>35.0</td>\n",
                            "    </tr>\n",
                            "    <tr>\n",
                            "      <th>3</th>\n",
                            "      <td>Paris</td>\n",
                            "      <td>1.04.2021</td>\n",
                            "      <td>0.2</td>\n",
                            "      <td>5400000</td>\n",
                            "      <td>10</td>\n",
                            "      <td>20000</td>\n",
                            "      <td>NaN</td>\n",
                            "    </tr>\n",
                            "  </tbody>\n",
                            "</table>\n",
                            "</div>"
                        ]
                    },
                    "metadata": {},
                    "execution_count": 75
                }
            ],
            "metadata": {}
        },
        {
            "cell_type": "markdown",
            "source": [
                "Supplying direct list values to `na_values` function may cause some problems.\r\n",
                "<br>For example there are some values in a column that cannot be there, but that value may be suitable for another column.\r\n",
                "<br>So instead of giving a direct list, we can use dictioneries:"
            ],
            "metadata": {}
        },
        {
            "cell_type": "code",
            "execution_count": 76,
            "source": [
                "dataFrame = pd.read_csv(\"Doomsday survival rate.csv\", nrows = 4, na_values ={\r\n",
                "    'Emotion Rate' : [\"error values\", \"not given\"],\r\n",
                "    'Survial Rate' : [-1],\r\n",
                "    'Temperature'  : [-273]\r\n",
                "    } ,sep = None, engine = \"python\")\r\n",
                "dataFrame"
            ],
            "outputs": [
                {
                    "output_type": "execute_result",
                    "data": {
                        "text/plain": [
                            "      ﻿Name       Date  Survival Rate  Number of People  Temperature  Bitcoin  \\\n",
                            "0    Ankara  1.01.2021            0.5            150000           15    45000   \n",
                            "1    London  1.02.2021            0.4            250000           25    85000   \n",
                            "2  New York  1.03.2021            0.3          15000000           30    90000   \n",
                            "3     Paris  1.04.2021            0.2           5400000           10    20000   \n",
                            "\n",
                            "   Emotion Rate  \n",
                            "0          50.0  \n",
                            "1           NaN  \n",
                            "2          35.0  \n",
                            "3           NaN  "
                        ],
                        "text/html": [
                            "<div>\n",
                            "<style scoped>\n",
                            "    .dataframe tbody tr th:only-of-type {\n",
                            "        vertical-align: middle;\n",
                            "    }\n",
                            "\n",
                            "    .dataframe tbody tr th {\n",
                            "        vertical-align: top;\n",
                            "    }\n",
                            "\n",
                            "    .dataframe thead th {\n",
                            "        text-align: right;\n",
                            "    }\n",
                            "</style>\n",
                            "<table border=\"1\" class=\"dataframe\">\n",
                            "  <thead>\n",
                            "    <tr style=\"text-align: right;\">\n",
                            "      <th></th>\n",
                            "      <th>﻿Name</th>\n",
                            "      <th>Date</th>\n",
                            "      <th>Survival Rate</th>\n",
                            "      <th>Number of People</th>\n",
                            "      <th>Temperature</th>\n",
                            "      <th>Bitcoin</th>\n",
                            "      <th>Emotion Rate</th>\n",
                            "    </tr>\n",
                            "  </thead>\n",
                            "  <tbody>\n",
                            "    <tr>\n",
                            "      <th>0</th>\n",
                            "      <td>Ankara</td>\n",
                            "      <td>1.01.2021</td>\n",
                            "      <td>0.5</td>\n",
                            "      <td>150000</td>\n",
                            "      <td>15</td>\n",
                            "      <td>45000</td>\n",
                            "      <td>50.0</td>\n",
                            "    </tr>\n",
                            "    <tr>\n",
                            "      <th>1</th>\n",
                            "      <td>London</td>\n",
                            "      <td>1.02.2021</td>\n",
                            "      <td>0.4</td>\n",
                            "      <td>250000</td>\n",
                            "      <td>25</td>\n",
                            "      <td>85000</td>\n",
                            "      <td>NaN</td>\n",
                            "    </tr>\n",
                            "    <tr>\n",
                            "      <th>2</th>\n",
                            "      <td>New York</td>\n",
                            "      <td>1.03.2021</td>\n",
                            "      <td>0.3</td>\n",
                            "      <td>15000000</td>\n",
                            "      <td>30</td>\n",
                            "      <td>90000</td>\n",
                            "      <td>35.0</td>\n",
                            "    </tr>\n",
                            "    <tr>\n",
                            "      <th>3</th>\n",
                            "      <td>Paris</td>\n",
                            "      <td>1.04.2021</td>\n",
                            "      <td>0.2</td>\n",
                            "      <td>5400000</td>\n",
                            "      <td>10</td>\n",
                            "      <td>20000</td>\n",
                            "      <td>NaN</td>\n",
                            "    </tr>\n",
                            "  </tbody>\n",
                            "</table>\n",
                            "</div>"
                        ]
                    },
                    "metadata": {},
                    "execution_count": 76
                }
            ],
            "metadata": {}
        },
        {
            "cell_type": "markdown",
            "source": [
                "## Writing to CSV"
            ],
            "metadata": {}
        },
        {
            "cell_type": "code",
            "execution_count": 77,
            "source": [
                "dataFrame.to_csv('new.csv', index = False)"
            ],
            "outputs": [],
            "metadata": {}
        },
        {
            "cell_type": "markdown",
            "source": [
                "## Writing to EXCEL"
            ],
            "metadata": {}
        },
        {
            "cell_type": "code",
            "execution_count": 78,
            "source": [
                "dataFrame.to_excel(\"new.xlsx\", sheet_name = \"doomed ones\", index = False)"
            ],
            "outputs": [],
            "metadata": {}
        },
        {
            "cell_type": "markdown",
            "source": [
                "Now lets say you have two diffrent data frames and you want to write them into the same .xlsx file but in diffrent sheets.\r\n",
                "<br>The way of doing that is, using a class called `ExcelWriter`:"
            ],
            "metadata": {}
        },
        {
            "cell_type": "code",
            "execution_count": 79,
            "source": [
                "with pd.ExcelWriter(\"NewWrited.xlsx\") as writer:\r\n",
                "    dataFrame.to_excel(writer, sheet_name = \"Sheet - 1\")\r\n",
                "    df5.to_excel(writer, sheet_name = \"Sheet -2\")"
            ],
            "outputs": [],
            "metadata": {}
        },
        {
            "cell_type": "markdown",
            "source": [
                "## All of the properties of the reading and writing can be accessed through documentation: https://pandas.pydata.org/docs/reference/io.html"
            ],
            "metadata": {}
        },
        {
            "cell_type": "markdown",
            "source": [
                "# End of the section\r\n",
                "***"
            ],
            "metadata": {}
        }
    ],
    "metadata": {
        "orig_nbformat": 4,
        "language_info": {
            "name": "python",
            "version": "3.9.6",
            "mimetype": "text/x-python",
            "codemirror_mode": {
                "name": "ipython",
                "version": 3
            },
            "pygments_lexer": "ipython3",
            "nbconvert_exporter": "python",
            "file_extension": ".py"
        },
        "kernelspec": {
            "name": "python3",
            "display_name": "Python 3.9.6 64-bit"
        },
        "interpreter": {
            "hash": "ab1f098d8d894e56d47723677a029b667719412772dfd5ab18cd5525d27390b1"
        }
    },
    "nbformat": 4,
    "nbformat_minor": 2
}
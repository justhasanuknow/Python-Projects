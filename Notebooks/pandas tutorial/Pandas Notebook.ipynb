{
    "cells": [
        {
            "cell_type": "markdown",
            "source": [
                "# Pandas Library Cheat Sheet\r\n",
                "### This notebook is my attempt to understand and learn the Pandas library.\r\n",
                "***\r\n",
                "<br>First of all, we are going to import the library:"
            ],
            "metadata": {}
        },
        {
            "cell_type": "code",
            "execution_count": 47,
            "source": [
                "import pandas as pd"
            ],
            "outputs": [],
            "metadata": {}
        },
        {
            "cell_type": "markdown",
            "source": [
                "***\r\n",
                "# Dataframe Basics:\r\n",
                "\r\n",
                "Dataframe is the main object in the Pandas framework and is a way to represent data with rows and columns.\r\n",
                "<br>In order to get the dataframe as a variable we will use the following command:"
            ],
            "metadata": {}
        },
        {
            "cell_type": "code",
            "execution_count": 48,
            "source": [
                "df = pd.read_csv(\"C:/Users/mhyms/Documents/Files/Python/Dataframes/Doomsday survial rate.csv\")"
            ],
            "outputs": [],
            "metadata": {}
        },
        {
            "cell_type": "markdown",
            "source": [
                "We are going to put the files directory as a string parameter in the `read_csv()` function.\r\n",
                "<br>In this case we are using the survival rate of the people after a apocalyptic scenerio."
            ],
            "metadata": {}
        },
        {
            "cell_type": "code",
            "execution_count": 49,
            "source": [
                "df"
            ],
            "outputs": [
                {
                    "output_type": "execute_result",
                    "data": {
                        "text/plain": [
                            "  Name;Date;Survival Rate;Number of People;Temperature;Bitcoin\n",
                            "0               Ankara;1.01.2021;0.5;150000;15;45000          \n",
                            "1               London;1.02.2021;0.4;250000;25;85000          \n",
                            "2           New York;1.03.2021;0.3;15000000;30;90000          \n",
                            "3               Paris;1.04.2021;0.2;5400000;10;20000          \n",
                            "4              Tokyo;1.05.2021;0.1;99000000;55;60000          \n",
                            "5              Moscow;1.06.2021;0.0;34000;-20;150000          "
                        ],
                        "text/html": [
                            "<div>\n",
                            "<style scoped>\n",
                            "    .dataframe tbody tr th:only-of-type {\n",
                            "        vertical-align: middle;\n",
                            "    }\n",
                            "\n",
                            "    .dataframe tbody tr th {\n",
                            "        vertical-align: top;\n",
                            "    }\n",
                            "\n",
                            "    .dataframe thead th {\n",
                            "        text-align: right;\n",
                            "    }\n",
                            "</style>\n",
                            "<table border=\"1\" class=\"dataframe\">\n",
                            "  <thead>\n",
                            "    <tr style=\"text-align: right;\">\n",
                            "      <th></th>\n",
                            "      <th>Name;Date;Survival Rate;Number of People;Temperature;Bitcoin</th>\n",
                            "    </tr>\n",
                            "  </thead>\n",
                            "  <tbody>\n",
                            "    <tr>\n",
                            "      <th>0</th>\n",
                            "      <td>Ankara;1.01.2021;0.5;150000;15;45000</td>\n",
                            "    </tr>\n",
                            "    <tr>\n",
                            "      <th>1</th>\n",
                            "      <td>London;1.02.2021;0.4;250000;25;85000</td>\n",
                            "    </tr>\n",
                            "    <tr>\n",
                            "      <th>2</th>\n",
                            "      <td>New York;1.03.2021;0.3;15000000;30;90000</td>\n",
                            "    </tr>\n",
                            "    <tr>\n",
                            "      <th>3</th>\n",
                            "      <td>Paris;1.04.2021;0.2;5400000;10;20000</td>\n",
                            "    </tr>\n",
                            "    <tr>\n",
                            "      <th>4</th>\n",
                            "      <td>Tokyo;1.05.2021;0.1;99000000;55;60000</td>\n",
                            "    </tr>\n",
                            "    <tr>\n",
                            "      <th>5</th>\n",
                            "      <td>Moscow;1.06.2021;0.0;34000;-20;150000</td>\n",
                            "    </tr>\n",
                            "  </tbody>\n",
                            "</table>\n",
                            "</div>"
                        ]
                    },
                    "metadata": {},
                    "execution_count": 49
                }
            ],
            "metadata": {}
        },
        {
            "cell_type": "markdown",
            "source": [
                "### And now we are going to create the same dataframe with python dictionaries:"
            ],
            "metadata": {}
        },
        {
            "cell_type": "code",
            "execution_count": 50,
            "source": [
                "survivalRate = {\r\n",
                "    'City Name' : [\"Ankara\", \"London\", \"New York\", \"Paris\", \"Tokyo\", \"Moscow\"],\r\n",
                "    'Date' : ['1.01.2021', '2.01.2021', '3.01.2021', '4.01.2021', '5.01.2021', '6.01.2021'],\r\n",
                "    'Survival Rate' : [0.5, 0.4, 0.3, 0.2, 0.1, 0.0],\r\n",
                "    'Number of People' : [150000, 250000, 15000000, 540000, 99000000, 34000],\r\n",
                "    'Temperature' : [15, 25, 30, 10, 55, -20]\r\n",
                "}\r\n",
                "\r\n",
                "dataFrame = pd.DataFrame(survivalRate)"
            ],
            "outputs": [],
            "metadata": {}
        },
        {
            "cell_type": "code",
            "execution_count": 71,
            "source": [
                "dataFrame"
            ],
            "outputs": [
                {
                    "output_type": "execute_result",
                    "data": {
                        "text/plain": [
                            "        Date City Name  Survival Rate  Number of People  Temperature\n",
                            "0  1.01.2021    Ankara            0.5            150000           15\n",
                            "1  2.01.2021    London            0.4            250000           25\n",
                            "2  3.01.2021  New York            0.3          15000000           30\n",
                            "3  4.01.2021     Paris            0.2            540000           10\n",
                            "4  5.01.2021     Tokyo            0.1          99000000           55\n",
                            "5  6.01.2021    Moscow            0.0             34000          -20"
                        ],
                        "text/html": [
                            "<div>\n",
                            "<style scoped>\n",
                            "    .dataframe tbody tr th:only-of-type {\n",
                            "        vertical-align: middle;\n",
                            "    }\n",
                            "\n",
                            "    .dataframe tbody tr th {\n",
                            "        vertical-align: top;\n",
                            "    }\n",
                            "\n",
                            "    .dataframe thead th {\n",
                            "        text-align: right;\n",
                            "    }\n",
                            "</style>\n",
                            "<table border=\"1\" class=\"dataframe\">\n",
                            "  <thead>\n",
                            "    <tr style=\"text-align: right;\">\n",
                            "      <th></th>\n",
                            "      <th>Date</th>\n",
                            "      <th>City Name</th>\n",
                            "      <th>Survival Rate</th>\n",
                            "      <th>Number of People</th>\n",
                            "      <th>Temperature</th>\n",
                            "    </tr>\n",
                            "  </thead>\n",
                            "  <tbody>\n",
                            "    <tr>\n",
                            "      <th>0</th>\n",
                            "      <td>1.01.2021</td>\n",
                            "      <td>Ankara</td>\n",
                            "      <td>0.5</td>\n",
                            "      <td>150000</td>\n",
                            "      <td>15</td>\n",
                            "    </tr>\n",
                            "    <tr>\n",
                            "      <th>1</th>\n",
                            "      <td>2.01.2021</td>\n",
                            "      <td>London</td>\n",
                            "      <td>0.4</td>\n",
                            "      <td>250000</td>\n",
                            "      <td>25</td>\n",
                            "    </tr>\n",
                            "    <tr>\n",
                            "      <th>2</th>\n",
                            "      <td>3.01.2021</td>\n",
                            "      <td>New York</td>\n",
                            "      <td>0.3</td>\n",
                            "      <td>15000000</td>\n",
                            "      <td>30</td>\n",
                            "    </tr>\n",
                            "    <tr>\n",
                            "      <th>3</th>\n",
                            "      <td>4.01.2021</td>\n",
                            "      <td>Paris</td>\n",
                            "      <td>0.2</td>\n",
                            "      <td>540000</td>\n",
                            "      <td>10</td>\n",
                            "    </tr>\n",
                            "    <tr>\n",
                            "      <th>4</th>\n",
                            "      <td>5.01.2021</td>\n",
                            "      <td>Tokyo</td>\n",
                            "      <td>0.1</td>\n",
                            "      <td>99000000</td>\n",
                            "      <td>55</td>\n",
                            "    </tr>\n",
                            "    <tr>\n",
                            "      <th>5</th>\n",
                            "      <td>6.01.2021</td>\n",
                            "      <td>Moscow</td>\n",
                            "      <td>0.0</td>\n",
                            "      <td>34000</td>\n",
                            "      <td>-20</td>\n",
                            "    </tr>\n",
                            "  </tbody>\n",
                            "</table>\n",
                            "</div>"
                        ]
                    },
                    "metadata": {},
                    "execution_count": 71
                }
            ],
            "metadata": {}
        },
        {
            "cell_type": "markdown",
            "source": [
                "To get the shape of the dataframe:"
            ],
            "metadata": {}
        },
        {
            "cell_type": "code",
            "execution_count": 52,
            "source": [
                "rows, columns = dataFrame.shape\r\n",
                "print(\"rows: \",rows)\r\n",
                "print(\"columns: \", columns)"
            ],
            "outputs": [
                {
                    "output_type": "stream",
                    "name": "stdout",
                    "text": [
                        "rows:  6\n",
                        "columns:  5\n"
                    ]
                }
            ],
            "metadata": {}
        },
        {
            "cell_type": "markdown",
            "source": [
                "Usually datasets includes a large amount of data. So viewing all of it is not ideal.\r\n",
                "<br>To peak at the contents, we can use `.head()` function."
            ],
            "metadata": {}
        },
        {
            "cell_type": "code",
            "execution_count": 53,
            "source": [
                "dataFrame.head(2)\r\n",
                "\r\n",
                "# This shows first 2 rows. If we leave it blank, by default it shows first 5 rows."
            ],
            "outputs": [
                {
                    "output_type": "execute_result",
                    "data": {
                        "text/plain": [
                            "  City Name       Date  Survival Rate  Number of People  Temperature\n",
                            "0    Ankara  1.01.2021            0.5            150000           15\n",
                            "1    London  2.01.2021            0.4            250000           25"
                        ],
                        "text/html": [
                            "<div>\n",
                            "<style scoped>\n",
                            "    .dataframe tbody tr th:only-of-type {\n",
                            "        vertical-align: middle;\n",
                            "    }\n",
                            "\n",
                            "    .dataframe tbody tr th {\n",
                            "        vertical-align: top;\n",
                            "    }\n",
                            "\n",
                            "    .dataframe thead th {\n",
                            "        text-align: right;\n",
                            "    }\n",
                            "</style>\n",
                            "<table border=\"1\" class=\"dataframe\">\n",
                            "  <thead>\n",
                            "    <tr style=\"text-align: right;\">\n",
                            "      <th></th>\n",
                            "      <th>City Name</th>\n",
                            "      <th>Date</th>\n",
                            "      <th>Survival Rate</th>\n",
                            "      <th>Number of People</th>\n",
                            "      <th>Temperature</th>\n",
                            "    </tr>\n",
                            "  </thead>\n",
                            "  <tbody>\n",
                            "    <tr>\n",
                            "      <th>0</th>\n",
                            "      <td>Ankara</td>\n",
                            "      <td>1.01.2021</td>\n",
                            "      <td>0.5</td>\n",
                            "      <td>150000</td>\n",
                            "      <td>15</td>\n",
                            "    </tr>\n",
                            "    <tr>\n",
                            "      <th>1</th>\n",
                            "      <td>London</td>\n",
                            "      <td>2.01.2021</td>\n",
                            "      <td>0.4</td>\n",
                            "      <td>250000</td>\n",
                            "      <td>25</td>\n",
                            "    </tr>\n",
                            "  </tbody>\n",
                            "</table>\n",
                            "</div>"
                        ]
                    },
                    "metadata": {},
                    "execution_count": 53
                }
            ],
            "metadata": {}
        },
        {
            "cell_type": "markdown",
            "source": [
                "In order to see the last 5, we use `.tail()` function."
            ],
            "metadata": {}
        },
        {
            "cell_type": "markdown",
            "source": [
                "## Indexing and Slicing\r\n",
                "\r\n",
                "we can use the same method as the lists in python to see the specific parts of the dataset.\r\n",
                "<br>For example if we wanted to illustrate from 2 to 4 (2 is included 4 is not):"
            ],
            "metadata": {}
        },
        {
            "cell_type": "code",
            "execution_count": 54,
            "source": [
                "dataFrame[2:4]"
            ],
            "outputs": [
                {
                    "output_type": "execute_result",
                    "data": {
                        "text/plain": [
                            "  City Name       Date  Survival Rate  Number of People  Temperature\n",
                            "2  New York  3.01.2021            0.3          15000000           30\n",
                            "3     Paris  4.01.2021            0.2            540000           10"
                        ],
                        "text/html": [
                            "<div>\n",
                            "<style scoped>\n",
                            "    .dataframe tbody tr th:only-of-type {\n",
                            "        vertical-align: middle;\n",
                            "    }\n",
                            "\n",
                            "    .dataframe tbody tr th {\n",
                            "        vertical-align: top;\n",
                            "    }\n",
                            "\n",
                            "    .dataframe thead th {\n",
                            "        text-align: right;\n",
                            "    }\n",
                            "</style>\n",
                            "<table border=\"1\" class=\"dataframe\">\n",
                            "  <thead>\n",
                            "    <tr style=\"text-align: right;\">\n",
                            "      <th></th>\n",
                            "      <th>City Name</th>\n",
                            "      <th>Date</th>\n",
                            "      <th>Survival Rate</th>\n",
                            "      <th>Number of People</th>\n",
                            "      <th>Temperature</th>\n",
                            "    </tr>\n",
                            "  </thead>\n",
                            "  <tbody>\n",
                            "    <tr>\n",
                            "      <th>2</th>\n",
                            "      <td>New York</td>\n",
                            "      <td>3.01.2021</td>\n",
                            "      <td>0.3</td>\n",
                            "      <td>15000000</td>\n",
                            "      <td>30</td>\n",
                            "    </tr>\n",
                            "    <tr>\n",
                            "      <th>3</th>\n",
                            "      <td>Paris</td>\n",
                            "      <td>4.01.2021</td>\n",
                            "      <td>0.2</td>\n",
                            "      <td>540000</td>\n",
                            "      <td>10</td>\n",
                            "    </tr>\n",
                            "  </tbody>\n",
                            "</table>\n",
                            "</div>"
                        ]
                    },
                    "metadata": {},
                    "execution_count": 54
                }
            ],
            "metadata": {}
        },
        {
            "cell_type": "markdown",
            "source": [
                "To see all we can use either this: `dataFrame[:]`, or we can type directly the name of the dataset."
            ],
            "metadata": {}
        },
        {
            "cell_type": "markdown",
            "source": [
                "Accesing all of the colummns:"
            ],
            "metadata": {}
        },
        {
            "cell_type": "code",
            "execution_count": 55,
            "source": [
                "dataFrame.columns"
            ],
            "outputs": [
                {
                    "output_type": "execute_result",
                    "data": {
                        "text/plain": [
                            "Index(['City Name', 'Date', 'Survival Rate', 'Number of People',\n",
                            "       'Temperature'],\n",
                            "      dtype='object')"
                        ]
                    },
                    "metadata": {},
                    "execution_count": 55
                }
            ],
            "metadata": {}
        },
        {
            "cell_type": "markdown",
            "source": [
                "Or to a desired column, for example 'Date':"
            ],
            "metadata": {}
        },
        {
            "cell_type": "code",
            "execution_count": 56,
            "source": [
                "dataFrame['Date']"
            ],
            "outputs": [
                {
                    "output_type": "execute_result",
                    "data": {
                        "text/plain": [
                            "0    1.01.2021\n",
                            "1    2.01.2021\n",
                            "2    3.01.2021\n",
                            "3    4.01.2021\n",
                            "4    5.01.2021\n",
                            "5    6.01.2021\n",
                            "Name: Date, dtype: object"
                        ]
                    },
                    "metadata": {},
                    "execution_count": 56
                }
            ],
            "metadata": {}
        },
        {
            "cell_type": "code",
            "execution_count": 57,
            "source": [
                "# Types\r\n",
                "type(dataFrame['Survival Rate'])"
            ],
            "outputs": [
                {
                    "output_type": "execute_result",
                    "data": {
                        "text/plain": [
                            "pandas.core.series.Series"
                        ]
                    },
                    "metadata": {},
                    "execution_count": 57
                }
            ],
            "metadata": {}
        },
        {
            "cell_type": "markdown",
            "source": [
                "Showing only desired columns:"
            ],
            "metadata": {}
        },
        {
            "cell_type": "code",
            "execution_count": 58,
            "source": [
                "dataFrame[['City Name','Survival Rate', 'Number of People']]"
            ],
            "outputs": [
                {
                    "output_type": "execute_result",
                    "data": {
                        "text/plain": [
                            "  City Name  Survival Rate  Number of People\n",
                            "0    Ankara            0.5            150000\n",
                            "1    London            0.4            250000\n",
                            "2  New York            0.3          15000000\n",
                            "3     Paris            0.2            540000\n",
                            "4     Tokyo            0.1          99000000\n",
                            "5    Moscow            0.0             34000"
                        ],
                        "text/html": [
                            "<div>\n",
                            "<style scoped>\n",
                            "    .dataframe tbody tr th:only-of-type {\n",
                            "        vertical-align: middle;\n",
                            "    }\n",
                            "\n",
                            "    .dataframe tbody tr th {\n",
                            "        vertical-align: top;\n",
                            "    }\n",
                            "\n",
                            "    .dataframe thead th {\n",
                            "        text-align: right;\n",
                            "    }\n",
                            "</style>\n",
                            "<table border=\"1\" class=\"dataframe\">\n",
                            "  <thead>\n",
                            "    <tr style=\"text-align: right;\">\n",
                            "      <th></th>\n",
                            "      <th>City Name</th>\n",
                            "      <th>Survival Rate</th>\n",
                            "      <th>Number of People</th>\n",
                            "    </tr>\n",
                            "  </thead>\n",
                            "  <tbody>\n",
                            "    <tr>\n",
                            "      <th>0</th>\n",
                            "      <td>Ankara</td>\n",
                            "      <td>0.5</td>\n",
                            "      <td>150000</td>\n",
                            "    </tr>\n",
                            "    <tr>\n",
                            "      <th>1</th>\n",
                            "      <td>London</td>\n",
                            "      <td>0.4</td>\n",
                            "      <td>250000</td>\n",
                            "    </tr>\n",
                            "    <tr>\n",
                            "      <th>2</th>\n",
                            "      <td>New York</td>\n",
                            "      <td>0.3</td>\n",
                            "      <td>15000000</td>\n",
                            "    </tr>\n",
                            "    <tr>\n",
                            "      <th>3</th>\n",
                            "      <td>Paris</td>\n",
                            "      <td>0.2</td>\n",
                            "      <td>540000</td>\n",
                            "    </tr>\n",
                            "    <tr>\n",
                            "      <th>4</th>\n",
                            "      <td>Tokyo</td>\n",
                            "      <td>0.1</td>\n",
                            "      <td>99000000</td>\n",
                            "    </tr>\n",
                            "    <tr>\n",
                            "      <th>5</th>\n",
                            "      <td>Moscow</td>\n",
                            "      <td>0.0</td>\n",
                            "      <td>34000</td>\n",
                            "    </tr>\n",
                            "  </tbody>\n",
                            "</table>\n",
                            "</div>"
                        ]
                    },
                    "metadata": {},
                    "execution_count": 58
                }
            ],
            "metadata": {}
        },
        {
            "cell_type": "markdown",
            "source": [
                "## Operations"
            ],
            "metadata": {}
        },
        {
            "cell_type": "code",
            "execution_count": 59,
            "source": [
                "# Maximum in a column:\r\n",
                "print('Maximum of the people: ', dataFrame['Number of People'].max())\r\n",
                "\r\n",
                "# Minimum in a column:\r\n",
                "print('Minimum of the people: ', dataFrame['Number of People'].min())\r\n",
                "\r\n",
                "# Average of the column:\r\n",
                "print('Average of the people: ', dataFrame['Number of People'].mean())\r\n",
                "\r\n",
                "# Standart deviation in a column:\r\n",
                "print('Standart Deviation of the people: ', dataFrame['Number of People'].std())"
            ],
            "outputs": [
                {
                    "output_type": "stream",
                    "name": "stdout",
                    "text": [
                        "Maximum of the people:  99000000\n",
                        "Minimum of the people:  34000\n",
                        "Average of the people:  19162333.333333332\n",
                        "Standart Deviation of the people:  39555549.90979985\n"
                    ]
                }
            ],
            "metadata": {}
        },
        {
            "cell_type": "markdown",
            "source": [
                "And there is a `.describe()` function.\r\n",
                "<br>This function prints the statistics of the dataset:"
            ],
            "metadata": {}
        },
        {
            "cell_type": "code",
            "execution_count": 60,
            "source": [
                "dataFrame.describe()"
            ],
            "outputs": [
                {
                    "output_type": "execute_result",
                    "data": {
                        "text/plain": [
                            "       Survival Rate  Number of People  Temperature\n",
                            "count       6.000000      6.000000e+00     6.000000\n",
                            "mean        0.250000      1.916233e+07    19.166667\n",
                            "std         0.187083      3.955555e+07    24.782386\n",
                            "min         0.000000      3.400000e+04   -20.000000\n",
                            "25%         0.125000      1.750000e+05    11.250000\n",
                            "50%         0.250000      3.950000e+05    20.000000\n",
                            "75%         0.375000      1.138500e+07    28.750000\n",
                            "max         0.500000      9.900000e+07    55.000000"
                        ],
                        "text/html": [
                            "<div>\n",
                            "<style scoped>\n",
                            "    .dataframe tbody tr th:only-of-type {\n",
                            "        vertical-align: middle;\n",
                            "    }\n",
                            "\n",
                            "    .dataframe tbody tr th {\n",
                            "        vertical-align: top;\n",
                            "    }\n",
                            "\n",
                            "    .dataframe thead th {\n",
                            "        text-align: right;\n",
                            "    }\n",
                            "</style>\n",
                            "<table border=\"1\" class=\"dataframe\">\n",
                            "  <thead>\n",
                            "    <tr style=\"text-align: right;\">\n",
                            "      <th></th>\n",
                            "      <th>Survival Rate</th>\n",
                            "      <th>Number of People</th>\n",
                            "      <th>Temperature</th>\n",
                            "    </tr>\n",
                            "  </thead>\n",
                            "  <tbody>\n",
                            "    <tr>\n",
                            "      <th>count</th>\n",
                            "      <td>6.000000</td>\n",
                            "      <td>6.000000e+00</td>\n",
                            "      <td>6.000000</td>\n",
                            "    </tr>\n",
                            "    <tr>\n",
                            "      <th>mean</th>\n",
                            "      <td>0.250000</td>\n",
                            "      <td>1.916233e+07</td>\n",
                            "      <td>19.166667</td>\n",
                            "    </tr>\n",
                            "    <tr>\n",
                            "      <th>std</th>\n",
                            "      <td>0.187083</td>\n",
                            "      <td>3.955555e+07</td>\n",
                            "      <td>24.782386</td>\n",
                            "    </tr>\n",
                            "    <tr>\n",
                            "      <th>min</th>\n",
                            "      <td>0.000000</td>\n",
                            "      <td>3.400000e+04</td>\n",
                            "      <td>-20.000000</td>\n",
                            "    </tr>\n",
                            "    <tr>\n",
                            "      <th>25%</th>\n",
                            "      <td>0.125000</td>\n",
                            "      <td>1.750000e+05</td>\n",
                            "      <td>11.250000</td>\n",
                            "    </tr>\n",
                            "    <tr>\n",
                            "      <th>50%</th>\n",
                            "      <td>0.250000</td>\n",
                            "      <td>3.950000e+05</td>\n",
                            "      <td>20.000000</td>\n",
                            "    </tr>\n",
                            "    <tr>\n",
                            "      <th>75%</th>\n",
                            "      <td>0.375000</td>\n",
                            "      <td>1.138500e+07</td>\n",
                            "      <td>28.750000</td>\n",
                            "    </tr>\n",
                            "    <tr>\n",
                            "      <th>max</th>\n",
                            "      <td>0.500000</td>\n",
                            "      <td>9.900000e+07</td>\n",
                            "      <td>55.000000</td>\n",
                            "    </tr>\n",
                            "  </tbody>\n",
                            "</table>\n",
                            "</div>"
                        ]
                    },
                    "metadata": {},
                    "execution_count": 60
                }
            ],
            "metadata": {}
        },
        {
            "cell_type": "code",
            "execution_count": 61,
            "source": [
                "# Filtering\r\n",
                "\r\n",
                "dataFrame[dataFrame.Temperature == dataFrame.Temperature.max()]"
            ],
            "outputs": [
                {
                    "output_type": "execute_result",
                    "data": {
                        "text/plain": [
                            "  City Name       Date  Survival Rate  Number of People  Temperature\n",
                            "4     Tokyo  5.01.2021            0.1          99000000           55"
                        ],
                        "text/html": [
                            "<div>\n",
                            "<style scoped>\n",
                            "    .dataframe tbody tr th:only-of-type {\n",
                            "        vertical-align: middle;\n",
                            "    }\n",
                            "\n",
                            "    .dataframe tbody tr th {\n",
                            "        vertical-align: top;\n",
                            "    }\n",
                            "\n",
                            "    .dataframe thead th {\n",
                            "        text-align: right;\n",
                            "    }\n",
                            "</style>\n",
                            "<table border=\"1\" class=\"dataframe\">\n",
                            "  <thead>\n",
                            "    <tr style=\"text-align: right;\">\n",
                            "      <th></th>\n",
                            "      <th>City Name</th>\n",
                            "      <th>Date</th>\n",
                            "      <th>Survival Rate</th>\n",
                            "      <th>Number of People</th>\n",
                            "      <th>Temperature</th>\n",
                            "    </tr>\n",
                            "  </thead>\n",
                            "  <tbody>\n",
                            "    <tr>\n",
                            "      <th>4</th>\n",
                            "      <td>Tokyo</td>\n",
                            "      <td>5.01.2021</td>\n",
                            "      <td>0.1</td>\n",
                            "      <td>99000000</td>\n",
                            "      <td>55</td>\n",
                            "    </tr>\n",
                            "  </tbody>\n",
                            "</table>\n",
                            "</div>"
                        ]
                    },
                    "metadata": {},
                    "execution_count": 61
                }
            ],
            "metadata": {}
        },
        {
            "cell_type": "code",
            "execution_count": 62,
            "source": [
                "dataFrame[dataFrame.Temperature >= 25]"
            ],
            "outputs": [
                {
                    "output_type": "execute_result",
                    "data": {
                        "text/plain": [
                            "  City Name       Date  Survival Rate  Number of People  Temperature\n",
                            "1    London  2.01.2021            0.4            250000           25\n",
                            "2  New York  3.01.2021            0.3          15000000           30\n",
                            "4     Tokyo  5.01.2021            0.1          99000000           55"
                        ],
                        "text/html": [
                            "<div>\n",
                            "<style scoped>\n",
                            "    .dataframe tbody tr th:only-of-type {\n",
                            "        vertical-align: middle;\n",
                            "    }\n",
                            "\n",
                            "    .dataframe tbody tr th {\n",
                            "        vertical-align: top;\n",
                            "    }\n",
                            "\n",
                            "    .dataframe thead th {\n",
                            "        text-align: right;\n",
                            "    }\n",
                            "</style>\n",
                            "<table border=\"1\" class=\"dataframe\">\n",
                            "  <thead>\n",
                            "    <tr style=\"text-align: right;\">\n",
                            "      <th></th>\n",
                            "      <th>City Name</th>\n",
                            "      <th>Date</th>\n",
                            "      <th>Survival Rate</th>\n",
                            "      <th>Number of People</th>\n",
                            "      <th>Temperature</th>\n",
                            "    </tr>\n",
                            "  </thead>\n",
                            "  <tbody>\n",
                            "    <tr>\n",
                            "      <th>1</th>\n",
                            "      <td>London</td>\n",
                            "      <td>2.01.2021</td>\n",
                            "      <td>0.4</td>\n",
                            "      <td>250000</td>\n",
                            "      <td>25</td>\n",
                            "    </tr>\n",
                            "    <tr>\n",
                            "      <th>2</th>\n",
                            "      <td>New York</td>\n",
                            "      <td>3.01.2021</td>\n",
                            "      <td>0.3</td>\n",
                            "      <td>15000000</td>\n",
                            "      <td>30</td>\n",
                            "    </tr>\n",
                            "    <tr>\n",
                            "      <th>4</th>\n",
                            "      <td>Tokyo</td>\n",
                            "      <td>5.01.2021</td>\n",
                            "      <td>0.1</td>\n",
                            "      <td>99000000</td>\n",
                            "      <td>55</td>\n",
                            "    </tr>\n",
                            "  </tbody>\n",
                            "</table>\n",
                            "</div>"
                        ]
                    },
                    "metadata": {},
                    "execution_count": 62
                }
            ],
            "metadata": {}
        },
        {
            "cell_type": "code",
            "execution_count": 63,
            "source": [
                "# If we wanted to print out the day whic temperature was maximum.\r\n",
                "\r\n",
                "dataFrame['Date'][dataFrame.Temperature == dataFrame.Temperature.max()]"
            ],
            "outputs": [
                {
                    "output_type": "execute_result",
                    "data": {
                        "text/plain": [
                            "4    5.01.2021\n",
                            "Name: Date, dtype: object"
                        ]
                    },
                    "metadata": {},
                    "execution_count": 63
                }
            ],
            "metadata": {}
        },
        {
            "cell_type": "markdown",
            "source": [
                "We can add other columns next to see other types if we want to.\r\n",
                "<br>For example:"
            ],
            "metadata": {}
        },
        {
            "cell_type": "code",
            "execution_count": 64,
            "source": [
                "dataFrame[['Date','Temperature']][dataFrame.Temperature == dataFrame.Temperature.max()]\r\n",
                "\r\n",
                "# Be careful that we had to add another bracket to the first array"
            ],
            "outputs": [
                {
                    "output_type": "execute_result",
                    "data": {
                        "text/plain": [
                            "        Date  Temperature\n",
                            "4  5.01.2021           55"
                        ],
                        "text/html": [
                            "<div>\n",
                            "<style scoped>\n",
                            "    .dataframe tbody tr th:only-of-type {\n",
                            "        vertical-align: middle;\n",
                            "    }\n",
                            "\n",
                            "    .dataframe tbody tr th {\n",
                            "        vertical-align: top;\n",
                            "    }\n",
                            "\n",
                            "    .dataframe thead th {\n",
                            "        text-align: right;\n",
                            "    }\n",
                            "</style>\n",
                            "<table border=\"1\" class=\"dataframe\">\n",
                            "  <thead>\n",
                            "    <tr style=\"text-align: right;\">\n",
                            "      <th></th>\n",
                            "      <th>Date</th>\n",
                            "      <th>Temperature</th>\n",
                            "    </tr>\n",
                            "  </thead>\n",
                            "  <tbody>\n",
                            "    <tr>\n",
                            "      <th>4</th>\n",
                            "      <td>5.01.2021</td>\n",
                            "      <td>55</td>\n",
                            "    </tr>\n",
                            "  </tbody>\n",
                            "</table>\n",
                            "</div>"
                        ]
                    },
                    "metadata": {},
                    "execution_count": 64
                }
            ],
            "metadata": {}
        },
        {
            "cell_type": "markdown",
            "source": [
                "To see more operations:\r\n",
                "<br><br>-> https://pandas.pydata.org/pandas-docs/stable/user_guide/basics.html\r\n",
                "<br>-> https://pandas.pydata.org/docs/reference/api/pandas.Series.html"
            ],
            "metadata": {}
        },
        {
            "cell_type": "markdown",
            "source": [
                "## set_index() and reset_index() methods"
            ],
            "metadata": {}
        },
        {
            "cell_type": "code",
            "execution_count": 65,
            "source": [
                "dataFrame.index"
            ],
            "outputs": [
                {
                    "output_type": "execute_result",
                    "data": {
                        "text/plain": [
                            "RangeIndex(start=0, stop=6, step=1)"
                        ]
                    },
                    "metadata": {},
                    "execution_count": 65
                }
            ],
            "metadata": {}
        },
        {
            "cell_type": "markdown",
            "source": [
                "In order to change the index to another type of variable is as follows.\r\n",
                "<br>lets say we want to change the index to 'Date',\r\n",
                "<br>`dataFrame.set_index('Date')`\r\n",
                "\r\n",
                "Now this function does not change the original dataset, it returns a new one.\r\n",
                "<br>To change it we have to add another parameter called \"inplace\":\r\n",
                "<br>`dataFrame.set_index('Date', inplace = True)`\r\n"
            ],
            "metadata": {}
        },
        {
            "cell_type": "code",
            "execution_count": 66,
            "source": [
                "dataFrame.set_index('Date', inplace = True)\r\n",
                "\r\n",
                "dataFrame"
            ],
            "outputs": [
                {
                    "output_type": "execute_result",
                    "data": {
                        "text/plain": [
                            "          City Name  Survival Rate  Number of People  Temperature\n",
                            "Date                                                             \n",
                            "1.01.2021    Ankara            0.5            150000           15\n",
                            "2.01.2021    London            0.4            250000           25\n",
                            "3.01.2021  New York            0.3          15000000           30\n",
                            "4.01.2021     Paris            0.2            540000           10\n",
                            "5.01.2021     Tokyo            0.1          99000000           55\n",
                            "6.01.2021    Moscow            0.0             34000          -20"
                        ],
                        "text/html": [
                            "<div>\n",
                            "<style scoped>\n",
                            "    .dataframe tbody tr th:only-of-type {\n",
                            "        vertical-align: middle;\n",
                            "    }\n",
                            "\n",
                            "    .dataframe tbody tr th {\n",
                            "        vertical-align: top;\n",
                            "    }\n",
                            "\n",
                            "    .dataframe thead th {\n",
                            "        text-align: right;\n",
                            "    }\n",
                            "</style>\n",
                            "<table border=\"1\" class=\"dataframe\">\n",
                            "  <thead>\n",
                            "    <tr style=\"text-align: right;\">\n",
                            "      <th></th>\n",
                            "      <th>City Name</th>\n",
                            "      <th>Survival Rate</th>\n",
                            "      <th>Number of People</th>\n",
                            "      <th>Temperature</th>\n",
                            "    </tr>\n",
                            "    <tr>\n",
                            "      <th>Date</th>\n",
                            "      <th></th>\n",
                            "      <th></th>\n",
                            "      <th></th>\n",
                            "      <th></th>\n",
                            "    </tr>\n",
                            "  </thead>\n",
                            "  <tbody>\n",
                            "    <tr>\n",
                            "      <th>1.01.2021</th>\n",
                            "      <td>Ankara</td>\n",
                            "      <td>0.5</td>\n",
                            "      <td>150000</td>\n",
                            "      <td>15</td>\n",
                            "    </tr>\n",
                            "    <tr>\n",
                            "      <th>2.01.2021</th>\n",
                            "      <td>London</td>\n",
                            "      <td>0.4</td>\n",
                            "      <td>250000</td>\n",
                            "      <td>25</td>\n",
                            "    </tr>\n",
                            "    <tr>\n",
                            "      <th>3.01.2021</th>\n",
                            "      <td>New York</td>\n",
                            "      <td>0.3</td>\n",
                            "      <td>15000000</td>\n",
                            "      <td>30</td>\n",
                            "    </tr>\n",
                            "    <tr>\n",
                            "      <th>4.01.2021</th>\n",
                            "      <td>Paris</td>\n",
                            "      <td>0.2</td>\n",
                            "      <td>540000</td>\n",
                            "      <td>10</td>\n",
                            "    </tr>\n",
                            "    <tr>\n",
                            "      <th>5.01.2021</th>\n",
                            "      <td>Tokyo</td>\n",
                            "      <td>0.1</td>\n",
                            "      <td>99000000</td>\n",
                            "      <td>55</td>\n",
                            "    </tr>\n",
                            "    <tr>\n",
                            "      <th>6.01.2021</th>\n",
                            "      <td>Moscow</td>\n",
                            "      <td>0.0</td>\n",
                            "      <td>34000</td>\n",
                            "      <td>-20</td>\n",
                            "    </tr>\n",
                            "  </tbody>\n",
                            "</table>\n",
                            "</div>"
                        ]
                    },
                    "metadata": {},
                    "execution_count": 66
                }
            ],
            "metadata": {}
        },
        {
            "cell_type": "code",
            "execution_count": 67,
            "source": [
                "# To call a specisif row according to the index:\r\n",
                "\r\n",
                "dataFrame.loc['4.01.2021']"
            ],
            "outputs": [
                {
                    "output_type": "execute_result",
                    "data": {
                        "text/plain": [
                            "City Name            Paris\n",
                            "Survival Rate          0.2\n",
                            "Number of People    540000\n",
                            "Temperature             10\n",
                            "Name: 4.01.2021, dtype: object"
                        ]
                    },
                    "metadata": {},
                    "execution_count": 67
                }
            ],
            "metadata": {}
        },
        {
            "cell_type": "markdown",
            "source": [
                "If we want to change the index to the original one:"
            ],
            "metadata": {}
        },
        {
            "cell_type": "code",
            "execution_count": 68,
            "source": [
                "dataFrame.reset_index(inplace = True)"
            ],
            "outputs": [],
            "metadata": {}
        },
        {
            "cell_type": "code",
            "execution_count": 69,
            "source": [
                "dataFrame"
            ],
            "outputs": [
                {
                    "output_type": "execute_result",
                    "data": {
                        "text/plain": [
                            "        Date City Name  Survival Rate  Number of People  Temperature\n",
                            "0  1.01.2021    Ankara            0.5            150000           15\n",
                            "1  2.01.2021    London            0.4            250000           25\n",
                            "2  3.01.2021  New York            0.3          15000000           30\n",
                            "3  4.01.2021     Paris            0.2            540000           10\n",
                            "4  5.01.2021     Tokyo            0.1          99000000           55\n",
                            "5  6.01.2021    Moscow            0.0             34000          -20"
                        ],
                        "text/html": [
                            "<div>\n",
                            "<style scoped>\n",
                            "    .dataframe tbody tr th:only-of-type {\n",
                            "        vertical-align: middle;\n",
                            "    }\n",
                            "\n",
                            "    .dataframe tbody tr th {\n",
                            "        vertical-align: top;\n",
                            "    }\n",
                            "\n",
                            "    .dataframe thead th {\n",
                            "        text-align: right;\n",
                            "    }\n",
                            "</style>\n",
                            "<table border=\"1\" class=\"dataframe\">\n",
                            "  <thead>\n",
                            "    <tr style=\"text-align: right;\">\n",
                            "      <th></th>\n",
                            "      <th>Date</th>\n",
                            "      <th>City Name</th>\n",
                            "      <th>Survival Rate</th>\n",
                            "      <th>Number of People</th>\n",
                            "      <th>Temperature</th>\n",
                            "    </tr>\n",
                            "  </thead>\n",
                            "  <tbody>\n",
                            "    <tr>\n",
                            "      <th>0</th>\n",
                            "      <td>1.01.2021</td>\n",
                            "      <td>Ankara</td>\n",
                            "      <td>0.5</td>\n",
                            "      <td>150000</td>\n",
                            "      <td>15</td>\n",
                            "    </tr>\n",
                            "    <tr>\n",
                            "      <th>1</th>\n",
                            "      <td>2.01.2021</td>\n",
                            "      <td>London</td>\n",
                            "      <td>0.4</td>\n",
                            "      <td>250000</td>\n",
                            "      <td>25</td>\n",
                            "    </tr>\n",
                            "    <tr>\n",
                            "      <th>2</th>\n",
                            "      <td>3.01.2021</td>\n",
                            "      <td>New York</td>\n",
                            "      <td>0.3</td>\n",
                            "      <td>15000000</td>\n",
                            "      <td>30</td>\n",
                            "    </tr>\n",
                            "    <tr>\n",
                            "      <th>3</th>\n",
                            "      <td>4.01.2021</td>\n",
                            "      <td>Paris</td>\n",
                            "      <td>0.2</td>\n",
                            "      <td>540000</td>\n",
                            "      <td>10</td>\n",
                            "    </tr>\n",
                            "    <tr>\n",
                            "      <th>4</th>\n",
                            "      <td>5.01.2021</td>\n",
                            "      <td>Tokyo</td>\n",
                            "      <td>0.1</td>\n",
                            "      <td>99000000</td>\n",
                            "      <td>55</td>\n",
                            "    </tr>\n",
                            "    <tr>\n",
                            "      <th>5</th>\n",
                            "      <td>6.01.2021</td>\n",
                            "      <td>Moscow</td>\n",
                            "      <td>0.0</td>\n",
                            "      <td>34000</td>\n",
                            "      <td>-20</td>\n",
                            "    </tr>\n",
                            "  </tbody>\n",
                            "</table>\n",
                            "</div>"
                        ]
                    },
                    "metadata": {},
                    "execution_count": 69
                }
            ],
            "metadata": {}
        },
        {
            "cell_type": "markdown",
            "source": [
                "### This is the end of the tutorial 1\r\n",
                "***\r\n"
            ],
            "metadata": {}
        }
    ],
    "metadata": {
        "orig_nbformat": 4,
        "language_info": {
            "name": "python",
            "version": "3.9.6",
            "mimetype": "text/x-python",
            "codemirror_mode": {
                "name": "ipython",
                "version": 3
            },
            "pygments_lexer": "ipython3",
            "nbconvert_exporter": "python",
            "file_extension": ".py"
        },
        "kernelspec": {
            "name": "python3",
            "display_name": "Python 3.9.6 64-bit"
        },
        "interpreter": {
            "hash": "ab1f098d8d894e56d47723677a029b667719412772dfd5ab18cd5525d27390b1"
        }
    },
    "nbformat": 4,
    "nbformat_minor": 2
}
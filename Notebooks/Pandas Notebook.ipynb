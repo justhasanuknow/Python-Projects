{
    "cells": [
        {
            "cell_type": "markdown",
            "source": [
                "# Pandas Library Cheat Sheet\r\n",
                "### This notebook is my attempt to understand and learn the Pandas library.\r\n",
                "***\r\n",
                "<br>First of all, we are going to import the library:"
            ],
            "metadata": {}
        },
        {
            "cell_type": "code",
            "execution_count": 1,
            "source": [
                "import pandas as pd"
            ],
            "outputs": [],
            "metadata": {}
        }
    ],
    "metadata": {
        "orig_nbformat": 4,
        "language_info": {
            "name": "python",
            "version": "3.9.6",
            "mimetype": "text/x-python",
            "codemirror_mode": {
                "name": "ipython",
                "version": 3
            },
            "pygments_lexer": "ipython3",
            "nbconvert_exporter": "python",
            "file_extension": ".py"
        },
        "kernelspec": {
            "name": "python3",
            "display_name": "Python 3.9.6 64-bit"
        },
        "interpreter": {
            "hash": "ab1f098d8d894e56d47723677a029b667719412772dfd5ab18cd5525d27390b1"
        }
    },
    "nbformat": 4,
    "nbformat_minor": 2
}
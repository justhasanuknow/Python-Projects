{
    "cells": [
        {
            "cell_type": "markdown",
            "source": [
                "# Pandas Library Cheat Sheet\r\n",
                "### This notebook is my attempt to understand and learn the Pandas library.\r\n",
                "***\r\n",
                "<br>First of all, we are going to import the library:"
            ],
            "metadata": {}
        },
        {
            "cell_type": "code",
            "execution_count": 19,
            "source": [
                "import pandas as pd"
            ],
            "outputs": [],
            "metadata": {}
        },
        {
            "cell_type": "markdown",
            "source": [
                "***\r\n",
                "## Dataframe Basics:\r\n",
                "\r\n",
                "Dataframe is the main object in the Pandas framework and is a way to represent data with rows and columns.\r\n",
                "<br>In order to get the dataframe as a variable we will use the following command:"
            ],
            "metadata": {}
        },
        {
            "cell_type": "code",
            "execution_count": 20,
            "source": [
                "df = pd.read_csv(\"C:/Users/mhyms/Documents/Files/Python/Dataframes/Doomsday survial rate.csv\")"
            ],
            "outputs": [],
            "metadata": {}
        },
        {
            "cell_type": "markdown",
            "source": [
                "We are going to put the files directory as a string parameter in the `read_csv()` function.\r\n",
                "<br>In this case we are using the survival rate of the people after a apocalyptic scenerio."
            ],
            "metadata": {}
        },
        {
            "cell_type": "code",
            "execution_count": 24,
            "source": [
                "df"
            ],
            "outputs": [
                {
                    "output_type": "execute_result",
                    "data": {
                        "text/plain": [
                            "  Name;Date;Survival Rate;Number of People\n",
                            "0              Ankara;1.01.2021;0.5;150000\n",
                            "1              London;1.02.2021;0.4;250000\n",
                            "2          New York;1.03.2021;0.3;15000000\n",
                            "3              Paris;1.04.2021;0.2;5400000\n",
                            "4             Tokyo;1.05.2021;0.1;99000000\n",
                            "5               Moscow;1.06.2021;0.0;34000"
                        ],
                        "text/html": [
                            "<div>\n",
                            "<style scoped>\n",
                            "    .dataframe tbody tr th:only-of-type {\n",
                            "        vertical-align: middle;\n",
                            "    }\n",
                            "\n",
                            "    .dataframe tbody tr th {\n",
                            "        vertical-align: top;\n",
                            "    }\n",
                            "\n",
                            "    .dataframe thead th {\n",
                            "        text-align: right;\n",
                            "    }\n",
                            "</style>\n",
                            "<table border=\"1\" class=\"dataframe\">\n",
                            "  <thead>\n",
                            "    <tr style=\"text-align: right;\">\n",
                            "      <th></th>\n",
                            "      <th>Name;Date;Survival Rate;Number of People</th>\n",
                            "    </tr>\n",
                            "  </thead>\n",
                            "  <tbody>\n",
                            "    <tr>\n",
                            "      <th>0</th>\n",
                            "      <td>Ankara;1.01.2021;0.5;150000</td>\n",
                            "    </tr>\n",
                            "    <tr>\n",
                            "      <th>1</th>\n",
                            "      <td>London;1.02.2021;0.4;250000</td>\n",
                            "    </tr>\n",
                            "    <tr>\n",
                            "      <th>2</th>\n",
                            "      <td>New York;1.03.2021;0.3;15000000</td>\n",
                            "    </tr>\n",
                            "    <tr>\n",
                            "      <th>3</th>\n",
                            "      <td>Paris;1.04.2021;0.2;5400000</td>\n",
                            "    </tr>\n",
                            "    <tr>\n",
                            "      <th>4</th>\n",
                            "      <td>Tokyo;1.05.2021;0.1;99000000</td>\n",
                            "    </tr>\n",
                            "    <tr>\n",
                            "      <th>5</th>\n",
                            "      <td>Moscow;1.06.2021;0.0;34000</td>\n",
                            "    </tr>\n",
                            "  </tbody>\n",
                            "</table>\n",
                            "</div>"
                        ]
                    },
                    "metadata": {},
                    "execution_count": 24
                }
            ],
            "metadata": {}
        },
        {
            "cell_type": "markdown",
            "source": [
                "### And now we are going to create the same dataframe with python dictionaries:"
            ],
            "metadata": {}
        },
        {
            "cell_type": "code",
            "execution_count": 25,
            "source": [
                "survivalRate = {\r\n",
                "    'City Name' : [\"Ankara\", \"London\", \"New York\", \"Paris\", \"Tokyo\"],\r\n",
                "    'Date' : ['1.01.2021', '2.01.2021', '3.01.2021', '4.01.2021', '5.01.2021'],\r\n",
                "    'Survival Rate' : [0.5, 0.4, 0.3, 0.2, 0.1],\r\n",
                "    'Number of People' : [150000, 250000, 15000000, 540000, 99000000]\r\n",
                "}\r\n",
                "\r\n",
                "dataFrame = pd.DataFrame(survivalRate)"
            ],
            "outputs": [],
            "metadata": {}
        },
        {
            "cell_type": "code",
            "execution_count": 26,
            "source": [
                "dataFrame"
            ],
            "outputs": [
                {
                    "output_type": "execute_result",
                    "data": {
                        "text/plain": [
                            "  City Name       Date  Survival Rate  Number of People\n",
                            "0    Ankara  1.01.2021            0.5            150000\n",
                            "1    London  2.01.2021            0.4            250000\n",
                            "2  New York  3.01.2021            0.3          15000000\n",
                            "3     Paris  4.01.2021            0.2            540000\n",
                            "4     Tokyo  5.01.2021            0.1          99000000"
                        ],
                        "text/html": [
                            "<div>\n",
                            "<style scoped>\n",
                            "    .dataframe tbody tr th:only-of-type {\n",
                            "        vertical-align: middle;\n",
                            "    }\n",
                            "\n",
                            "    .dataframe tbody tr th {\n",
                            "        vertical-align: top;\n",
                            "    }\n",
                            "\n",
                            "    .dataframe thead th {\n",
                            "        text-align: right;\n",
                            "    }\n",
                            "</style>\n",
                            "<table border=\"1\" class=\"dataframe\">\n",
                            "  <thead>\n",
                            "    <tr style=\"text-align: right;\">\n",
                            "      <th></th>\n",
                            "      <th>City Name</th>\n",
                            "      <th>Date</th>\n",
                            "      <th>Survival Rate</th>\n",
                            "      <th>Number of People</th>\n",
                            "    </tr>\n",
                            "  </thead>\n",
                            "  <tbody>\n",
                            "    <tr>\n",
                            "      <th>0</th>\n",
                            "      <td>Ankara</td>\n",
                            "      <td>1.01.2021</td>\n",
                            "      <td>0.5</td>\n",
                            "      <td>150000</td>\n",
                            "    </tr>\n",
                            "    <tr>\n",
                            "      <th>1</th>\n",
                            "      <td>London</td>\n",
                            "      <td>2.01.2021</td>\n",
                            "      <td>0.4</td>\n",
                            "      <td>250000</td>\n",
                            "    </tr>\n",
                            "    <tr>\n",
                            "      <th>2</th>\n",
                            "      <td>New York</td>\n",
                            "      <td>3.01.2021</td>\n",
                            "      <td>0.3</td>\n",
                            "      <td>15000000</td>\n",
                            "    </tr>\n",
                            "    <tr>\n",
                            "      <th>3</th>\n",
                            "      <td>Paris</td>\n",
                            "      <td>4.01.2021</td>\n",
                            "      <td>0.2</td>\n",
                            "      <td>540000</td>\n",
                            "    </tr>\n",
                            "    <tr>\n",
                            "      <th>4</th>\n",
                            "      <td>Tokyo</td>\n",
                            "      <td>5.01.2021</td>\n",
                            "      <td>0.1</td>\n",
                            "      <td>99000000</td>\n",
                            "    </tr>\n",
                            "  </tbody>\n",
                            "</table>\n",
                            "</div>"
                        ]
                    },
                    "metadata": {},
                    "execution_count": 26
                }
            ],
            "metadata": {}
        },
        {
            "cell_type": "markdown",
            "source": [
                "To get the shape of the dataframe:"
            ],
            "metadata": {}
        },
        {
            "cell_type": "code",
            "execution_count": 30,
            "source": [
                "rows, columns = dataFrame.shape\r\n",
                "print(\"rows: \",rows)\r\n",
                "print(\"columns: \", columns)"
            ],
            "outputs": [
                {
                    "output_type": "stream",
                    "name": "stdout",
                    "text": [
                        "rows:  5\n",
                        "columns:  4\n"
                    ]
                }
            ],
            "metadata": {}
        }
    ],
    "metadata": {
        "orig_nbformat": 4,
        "language_info": {
            "name": "python",
            "version": "3.9.6",
            "mimetype": "text/x-python",
            "codemirror_mode": {
                "name": "ipython",
                "version": 3
            },
            "pygments_lexer": "ipython3",
            "nbconvert_exporter": "python",
            "file_extension": ".py"
        },
        "kernelspec": {
            "name": "python3",
            "display_name": "Python 3.9.6 64-bit"
        },
        "interpreter": {
            "hash": "ab1f098d8d894e56d47723677a029b667719412772dfd5ab18cd5525d27390b1"
        }
    },
    "nbformat": 4,
    "nbformat_minor": 2
}
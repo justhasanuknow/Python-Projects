{
    "cells": [
        {
            "cell_type": "markdown",
            "source": [
                "# Pandas Library Cheat Sheet\r\n",
                "### This notebook is my attempt to understand and learn the Pandas library.\r\n",
                "***\r\n",
                "<br>First of all, we are going to import the library:"
            ],
            "metadata": {}
        },
        {
            "cell_type": "code",
            "execution_count": 4,
            "source": [
                "import pandas as pd"
            ],
            "outputs": [],
            "metadata": {}
        },
        {
            "cell_type": "markdown",
            "source": [
                "***\r\n",
                "## Dataframe Basics:\r\n",
                "\r\n",
                "Dataframe is the main object in the Pandas framework and is a way to represent data with rows and columns.\r\n",
                "<br>In order to get the dataframe as a variable we will use the following command:"
            ],
            "metadata": {}
        },
        {
            "cell_type": "code",
            "execution_count": 6,
            "source": [
                "df = pd.read_csv(\"C:/Users/mhyms/Documents/Files/Python/Dataframes/Doomsday survial rate.csv\")"
            ],
            "outputs": [],
            "metadata": {}
        },
        {
            "cell_type": "markdown",
            "source": [
                "We are going to put the files directory as a string parameter in the `read_csv()` function.\r\n",
                "<br>In this case we are using the survival rate of the people after a apocalyptic scenerio."
            ],
            "metadata": {}
        }
    ],
    "metadata": {
        "orig_nbformat": 4,
        "language_info": {
            "name": "python",
            "version": "3.9.6",
            "mimetype": "text/x-python",
            "codemirror_mode": {
                "name": "ipython",
                "version": 3
            },
            "pygments_lexer": "ipython3",
            "nbconvert_exporter": "python",
            "file_extension": ".py"
        },
        "kernelspec": {
            "name": "python3",
            "display_name": "Python 3.9.6 64-bit"
        },
        "interpreter": {
            "hash": "ab1f098d8d894e56d47723677a029b667719412772dfd5ab18cd5525d27390b1"
        }
    },
    "nbformat": 4,
    "nbformat_minor": 2
}